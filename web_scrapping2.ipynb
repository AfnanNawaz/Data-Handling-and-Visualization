{
  "nbformat": 4,
  "nbformat_minor": 0,
  "metadata": {
    "colab": {
      "provenance": []
    },
    "kernelspec": {
      "name": "python3",
      "display_name": "Python 3"
    },
    "language_info": {
      "name": "python"
    }
  },
  "cells": [
    {
      "cell_type": "code",
      "execution_count": 1,
      "metadata": {
        "id": "MKw9gTonWUeJ"
      },
      "outputs": [],
      "source": [
        "import requests\n",
        "from bs4 import BeautifulSoup\n",
        "\n"
      ]
    },
    {
      "cell_type": "code",
      "source": [
        "url = 'https://en.wikipedia.org/wiki/List_of_busiest_airports_in_Africa'\n",
        "response = requests.get(url)"
      ],
      "metadata": {
        "id": "lgBr4_IIWd9-"
      },
      "execution_count": 5,
      "outputs": []
    },
    {
      "cell_type": "code",
      "source": [
        "soup = BeautifulSoup(response.text, 'html.parser')"
      ],
      "metadata": {
        "id": "LaJe_7GMWhJO"
      },
      "execution_count": 6,
      "outputs": []
    },
    {
      "cell_type": "markdown",
      "source": [],
      "metadata": {
        "id": "SBCeUjT8WjpM"
      }
    },
    {
      "cell_type": "code",
      "source": [
        "table = soup.find('table', class_='wikitable')\n"
      ],
      "metadata": {
        "id": "OeL0Pj0kWlEM"
      },
      "execution_count": 7,
      "outputs": []
    },
    {
      "cell_type": "code",
      "source": [
        "airport_names = []\n",
        "passenger_counts = []\n",
        "\n",
        "for row in table.find_all('tr')[1:]:\n",
        "    airport_name = row.find_all('td')[1].text.strip()\n",
        "    airport_names.append(airport_name)\n",
        "\n",
        "    passenger_count = row.find_all('td')[3].text.strip()\n",
        "    passenger_counts.append(passenger_count)\n",
        "\n",
        "print(\"Top 10 Busiest Airports in the africa by Passenger Traffic:\")\n",
        "for i in range(10):\n",
        "    print(f\"{i+1}. {airport_names[i]} - {passenger_counts[i]}\")"
      ],
      "metadata": {
        "colab": {
          "base_uri": "https://localhost:8080/"
        },
        "id": "C9w_7UklWoG0",
        "outputId": "834f0f13-91a8-46f4-bfee-6062d4dc34f6"
      },
      "execution_count": 9,
      "outputs": [
        {
          "output_type": "stream",
          "name": "stdout",
          "text": [
            "Top 10 Busiest Airports in the africa by Passenger Traffic:\n",
            "1. Egypt - CAI\n",
            "2. South Africa - JNB\n",
            "3. Spain - LPA\n",
            "4. Spain - TFS\n",
            "5. South Africa - CPT\n",
            "6. Morocco - CMN\n",
            "7. Spain - ACE\n",
            "8. Egypt - HRG\n",
            "9. Ethiopia - ADD\n",
            "10. Kenya - NBO\n"
          ]
        }
      ]
    }
  ]
}